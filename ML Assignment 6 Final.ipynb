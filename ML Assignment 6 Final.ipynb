{
 "cells": [
  {
   "cell_type": "markdown",
   "id": "91bd42d7",
   "metadata": {
    "id": "91bd42d7"
   },
   "source": [
    "##  Assignment 6\n"
   ]
  },
  {
   "cell_type": "code",
   "execution_count": 1,
   "id": "ddf89651",
   "metadata": {
    "executionInfo": {
     "elapsed": 1080,
     "status": "ok",
     "timestamp": 1694922405513,
     "user": {
      "displayName": "SHREYANSHU KODILKAR",
      "userId": "15024622034264586638"
     },
     "user_tz": -330
    },
    "id": "ddf89651"
   },
   "outputs": [],
   "source": [
    "import pandas as pd\n",
    "import numpy as np\n",
    "import matplotlib.pyplot as plt\n",
    "import seaborn as sns"
   ]
  },
  {
   "cell_type": "code",
   "execution_count": 2,
   "id": "5d63a060",
   "metadata": {
    "colab": {
     "base_uri": "https://localhost:8080/",
     "height": 359
    },
    "executionInfo": {
     "elapsed": 6,
     "status": "ok",
     "timestamp": 1694922652863,
     "user": {
      "displayName": "SHREYANSHU KODILKAR",
      "userId": "15024622034264586638"
     },
     "user_tz": -330
    },
    "id": "5d63a060",
    "outputId": "e936c7df-6576-4784-ce14-8752e2293974"
   },
   "outputs": [
    {
     "data": {
      "text/html": [
       "<div>\n",
       "<style scoped>\n",
       "    .dataframe tbody tr th:only-of-type {\n",
       "        vertical-align: middle;\n",
       "    }\n",
       "\n",
       "    .dataframe tbody tr th {\n",
       "        vertical-align: top;\n",
       "    }\n",
       "\n",
       "    .dataframe thead th {\n",
       "        text-align: right;\n",
       "    }\n",
       "</style>\n",
       "<table border=\"1\" class=\"dataframe\">\n",
       "  <thead>\n",
       "    <tr style=\"text-align: right;\">\n",
       "      <th></th>\n",
       "      <th>ORDERNUMBER</th>\n",
       "      <th>QUANTITYORDERED</th>\n",
       "      <th>PRICEEACH</th>\n",
       "      <th>ORDERLINENUMBER</th>\n",
       "      <th>SALES</th>\n",
       "      <th>ORDERDATE</th>\n",
       "      <th>STATUS</th>\n",
       "      <th>QTR_ID</th>\n",
       "      <th>MONTH_ID</th>\n",
       "      <th>YEAR_ID</th>\n",
       "      <th>...</th>\n",
       "      <th>ADDRESSLINE1</th>\n",
       "      <th>ADDRESSLINE2</th>\n",
       "      <th>CITY</th>\n",
       "      <th>STATE</th>\n",
       "      <th>POSTALCODE</th>\n",
       "      <th>COUNTRY</th>\n",
       "      <th>TERRITORY</th>\n",
       "      <th>CONTACTLASTNAME</th>\n",
       "      <th>CONTACTFIRSTNAME</th>\n",
       "      <th>DEALSIZE</th>\n",
       "    </tr>\n",
       "  </thead>\n",
       "  <tbody>\n",
       "    <tr>\n",
       "      <th>0</th>\n",
       "      <td>10107</td>\n",
       "      <td>30</td>\n",
       "      <td>95.70</td>\n",
       "      <td>2</td>\n",
       "      <td>2871.00</td>\n",
       "      <td>2/24/2003 0:00</td>\n",
       "      <td>Shipped</td>\n",
       "      <td>1</td>\n",
       "      <td>2</td>\n",
       "      <td>2003</td>\n",
       "      <td>...</td>\n",
       "      <td>897 Long Airport Avenue</td>\n",
       "      <td>NaN</td>\n",
       "      <td>NYC</td>\n",
       "      <td>NY</td>\n",
       "      <td>10022</td>\n",
       "      <td>USA</td>\n",
       "      <td>NaN</td>\n",
       "      <td>Yu</td>\n",
       "      <td>Kwai</td>\n",
       "      <td>Small</td>\n",
       "    </tr>\n",
       "    <tr>\n",
       "      <th>1</th>\n",
       "      <td>10121</td>\n",
       "      <td>34</td>\n",
       "      <td>81.35</td>\n",
       "      <td>5</td>\n",
       "      <td>2765.90</td>\n",
       "      <td>5/7/2003 0:00</td>\n",
       "      <td>Shipped</td>\n",
       "      <td>2</td>\n",
       "      <td>5</td>\n",
       "      <td>2003</td>\n",
       "      <td>...</td>\n",
       "      <td>59 rue de l'Abbaye</td>\n",
       "      <td>NaN</td>\n",
       "      <td>Reims</td>\n",
       "      <td>NaN</td>\n",
       "      <td>51100</td>\n",
       "      <td>France</td>\n",
       "      <td>EMEA</td>\n",
       "      <td>Henriot</td>\n",
       "      <td>Paul</td>\n",
       "      <td>Small</td>\n",
       "    </tr>\n",
       "    <tr>\n",
       "      <th>2</th>\n",
       "      <td>10134</td>\n",
       "      <td>41</td>\n",
       "      <td>94.74</td>\n",
       "      <td>2</td>\n",
       "      <td>3884.34</td>\n",
       "      <td>7/1/2003 0:00</td>\n",
       "      <td>Shipped</td>\n",
       "      <td>3</td>\n",
       "      <td>7</td>\n",
       "      <td>2003</td>\n",
       "      <td>...</td>\n",
       "      <td>27 rue du Colonel Pierre Avia</td>\n",
       "      <td>NaN</td>\n",
       "      <td>Paris</td>\n",
       "      <td>NaN</td>\n",
       "      <td>75508</td>\n",
       "      <td>France</td>\n",
       "      <td>EMEA</td>\n",
       "      <td>Da Cunha</td>\n",
       "      <td>Daniel</td>\n",
       "      <td>Medium</td>\n",
       "    </tr>\n",
       "    <tr>\n",
       "      <th>3</th>\n",
       "      <td>10145</td>\n",
       "      <td>45</td>\n",
       "      <td>83.26</td>\n",
       "      <td>6</td>\n",
       "      <td>3746.70</td>\n",
       "      <td>8/25/2003 0:00</td>\n",
       "      <td>Shipped</td>\n",
       "      <td>3</td>\n",
       "      <td>8</td>\n",
       "      <td>2003</td>\n",
       "      <td>...</td>\n",
       "      <td>78934 Hillside Dr.</td>\n",
       "      <td>NaN</td>\n",
       "      <td>Pasadena</td>\n",
       "      <td>CA</td>\n",
       "      <td>90003</td>\n",
       "      <td>USA</td>\n",
       "      <td>NaN</td>\n",
       "      <td>Young</td>\n",
       "      <td>Julie</td>\n",
       "      <td>Medium</td>\n",
       "    </tr>\n",
       "    <tr>\n",
       "      <th>4</th>\n",
       "      <td>10159</td>\n",
       "      <td>49</td>\n",
       "      <td>100.00</td>\n",
       "      <td>14</td>\n",
       "      <td>5205.27</td>\n",
       "      <td>10/10/2003 0:00</td>\n",
       "      <td>Shipped</td>\n",
       "      <td>4</td>\n",
       "      <td>10</td>\n",
       "      <td>2003</td>\n",
       "      <td>...</td>\n",
       "      <td>7734 Strong St.</td>\n",
       "      <td>NaN</td>\n",
       "      <td>San Francisco</td>\n",
       "      <td>CA</td>\n",
       "      <td>NaN</td>\n",
       "      <td>USA</td>\n",
       "      <td>NaN</td>\n",
       "      <td>Brown</td>\n",
       "      <td>Julie</td>\n",
       "      <td>Medium</td>\n",
       "    </tr>\n",
       "  </tbody>\n",
       "</table>\n",
       "<p>5 rows × 25 columns</p>\n",
       "</div>"
      ],
      "text/plain": [
       "   ORDERNUMBER  QUANTITYORDERED  PRICEEACH  ORDERLINENUMBER    SALES  \\\n",
       "0        10107               30      95.70                2  2871.00   \n",
       "1        10121               34      81.35                5  2765.90   \n",
       "2        10134               41      94.74                2  3884.34   \n",
       "3        10145               45      83.26                6  3746.70   \n",
       "4        10159               49     100.00               14  5205.27   \n",
       "\n",
       "         ORDERDATE   STATUS  QTR_ID  MONTH_ID  YEAR_ID  ...  \\\n",
       "0   2/24/2003 0:00  Shipped       1         2     2003  ...   \n",
       "1    5/7/2003 0:00  Shipped       2         5     2003  ...   \n",
       "2    7/1/2003 0:00  Shipped       3         7     2003  ...   \n",
       "3   8/25/2003 0:00  Shipped       3         8     2003  ...   \n",
       "4  10/10/2003 0:00  Shipped       4        10     2003  ...   \n",
       "\n",
       "                    ADDRESSLINE1  ADDRESSLINE2           CITY STATE  \\\n",
       "0        897 Long Airport Avenue           NaN            NYC    NY   \n",
       "1             59 rue de l'Abbaye           NaN          Reims   NaN   \n",
       "2  27 rue du Colonel Pierre Avia           NaN          Paris   NaN   \n",
       "3             78934 Hillside Dr.           NaN       Pasadena    CA   \n",
       "4                7734 Strong St.           NaN  San Francisco    CA   \n",
       "\n",
       "  POSTALCODE COUNTRY TERRITORY CONTACTLASTNAME CONTACTFIRSTNAME DEALSIZE  \n",
       "0      10022     USA       NaN              Yu             Kwai    Small  \n",
       "1      51100  France      EMEA         Henriot             Paul    Small  \n",
       "2      75508  France      EMEA        Da Cunha           Daniel   Medium  \n",
       "3      90003     USA       NaN           Young            Julie   Medium  \n",
       "4        NaN     USA       NaN           Brown            Julie   Medium  \n",
       "\n",
       "[5 rows x 25 columns]"
      ]
     },
     "execution_count": 2,
     "metadata": {},
     "output_type": "execute_result"
    }
   ],
   "source": [
    "df = pd.read_csv(\"sales_data_sample.csv\")\n",
    "df.head()\n",
    "\n"
   ]
  },
  {
   "cell_type": "code",
   "execution_count": 3,
   "id": "6a04c75e",
   "metadata": {
    "colab": {
     "base_uri": "https://localhost:8080/",
     "height": 0
    },
    "executionInfo": {
     "elapsed": 685,
     "status": "ok",
     "timestamp": 1694922701216,
     "user": {
      "displayName": "SHREYANSHU KODILKAR",
      "userId": "15024622034264586638"
     },
     "user_tz": -330
    },
    "id": "6a04c75e",
    "outputId": "b3f9c24f-ebf6-43c0-e4b9-b322cd671729"
   },
   "outputs": [
    {
     "data": {
      "text/plain": [
       "(2823, 25)"
      ]
     },
     "execution_count": 3,
     "metadata": {},
     "output_type": "execute_result"
    }
   ],
   "source": [
    "df.shape"
   ]
  },
  {
   "cell_type": "code",
   "execution_count": 4,
   "id": "5a71f716",
   "metadata": {
    "colab": {
     "base_uri": "https://localhost:8080/",
     "height": 0
    },
    "executionInfo": {
     "elapsed": 5,
     "status": "ok",
     "timestamp": 1694922705618,
     "user": {
      "displayName": "SHREYANSHU KODILKAR",
      "userId": "15024622034264586638"
     },
     "user_tz": -330
    },
    "id": "5a71f716",
    "outputId": "a311d843-ffb7-44c5-ab0d-d4b71c2930d3"
   },
   "outputs": [
    {
     "data": {
      "text/plain": [
       "ORDERNUMBER            0\n",
       "QUANTITYORDERED        0\n",
       "PRICEEACH              0\n",
       "ORDERLINENUMBER        0\n",
       "SALES                  0\n",
       "ORDERDATE              0\n",
       "STATUS                 0\n",
       "QTR_ID                 0\n",
       "MONTH_ID               0\n",
       "YEAR_ID                0\n",
       "PRODUCTLINE            0\n",
       "MSRP                   0\n",
       "PRODUCTCODE            0\n",
       "CUSTOMERNAME           0\n",
       "PHONE                  0\n",
       "ADDRESSLINE1           0\n",
       "ADDRESSLINE2        2521\n",
       "CITY                   0\n",
       "STATE               1486\n",
       "POSTALCODE            76\n",
       "COUNTRY                0\n",
       "TERRITORY           1074\n",
       "CONTACTLASTNAME        0\n",
       "CONTACTFIRSTNAME       0\n",
       "DEALSIZE               0\n",
       "dtype: int64"
      ]
     },
     "execution_count": 4,
     "metadata": {},
     "output_type": "execute_result"
    }
   ],
   "source": [
    "df.isnull().sum()"
   ]
  },
  {
   "cell_type": "code",
   "execution_count": 5,
   "id": "0b562673",
   "metadata": {
    "executionInfo": {
     "elapsed": 3,
     "status": "ok",
     "timestamp": 1694922711200,
     "user": {
      "displayName": "SHREYANSHU KODILKAR",
      "userId": "15024622034264586638"
     },
     "user_tz": -330
    },
    "id": "0b562673"
   },
   "outputs": [],
   "source": [
    "df.drop([\"ORDERNUMBER\", \"PRICEEACH\", \"ORDERDATE\", \"PHONE\", \"ADDRESSLINE1\", \"ADDRESSLINE2\", \"CITY\", \"STATE\", \"TERRITORY\", \"POSTALCODE\", \"CONTACTLASTNAME\", \"CONTACTFIRSTNAME\"], axis = 1, inplace=True)"
   ]
  },
  {
   "cell_type": "code",
   "execution_count": 6,
   "id": "c674d6fd",
   "metadata": {
    "colab": {
     "base_uri": "https://localhost:8080/",
     "height": 243
    },
    "executionInfo": {
     "elapsed": 10,
     "status": "ok",
     "timestamp": 1694922715733,
     "user": {
      "displayName": "SHREYANSHU KODILKAR",
      "userId": "15024622034264586638"
     },
     "user_tz": -330
    },
    "id": "c674d6fd",
    "outputId": "9c723228-3298-48c8-ffd6-fd160ee092bd"
   },
   "outputs": [
    {
     "data": {
      "text/html": [
       "<div>\n",
       "<style scoped>\n",
       "    .dataframe tbody tr th:only-of-type {\n",
       "        vertical-align: middle;\n",
       "    }\n",
       "\n",
       "    .dataframe tbody tr th {\n",
       "        vertical-align: top;\n",
       "    }\n",
       "\n",
       "    .dataframe thead th {\n",
       "        text-align: right;\n",
       "    }\n",
       "</style>\n",
       "<table border=\"1\" class=\"dataframe\">\n",
       "  <thead>\n",
       "    <tr style=\"text-align: right;\">\n",
       "      <th></th>\n",
       "      <th>QUANTITYORDERED</th>\n",
       "      <th>ORDERLINENUMBER</th>\n",
       "      <th>SALES</th>\n",
       "      <th>STATUS</th>\n",
       "      <th>QTR_ID</th>\n",
       "      <th>MONTH_ID</th>\n",
       "      <th>YEAR_ID</th>\n",
       "      <th>PRODUCTLINE</th>\n",
       "      <th>MSRP</th>\n",
       "      <th>PRODUCTCODE</th>\n",
       "      <th>CUSTOMERNAME</th>\n",
       "      <th>COUNTRY</th>\n",
       "      <th>DEALSIZE</th>\n",
       "    </tr>\n",
       "  </thead>\n",
       "  <tbody>\n",
       "    <tr>\n",
       "      <th>0</th>\n",
       "      <td>30</td>\n",
       "      <td>2</td>\n",
       "      <td>2871.00</td>\n",
       "      <td>Shipped</td>\n",
       "      <td>1</td>\n",
       "      <td>2</td>\n",
       "      <td>2003</td>\n",
       "      <td>Motorcycles</td>\n",
       "      <td>95</td>\n",
       "      <td>S10_1678</td>\n",
       "      <td>Land of Toys Inc.</td>\n",
       "      <td>USA</td>\n",
       "      <td>Small</td>\n",
       "    </tr>\n",
       "    <tr>\n",
       "      <th>1</th>\n",
       "      <td>34</td>\n",
       "      <td>5</td>\n",
       "      <td>2765.90</td>\n",
       "      <td>Shipped</td>\n",
       "      <td>2</td>\n",
       "      <td>5</td>\n",
       "      <td>2003</td>\n",
       "      <td>Motorcycles</td>\n",
       "      <td>95</td>\n",
       "      <td>S10_1678</td>\n",
       "      <td>Reims Collectables</td>\n",
       "      <td>France</td>\n",
       "      <td>Small</td>\n",
       "    </tr>\n",
       "    <tr>\n",
       "      <th>2</th>\n",
       "      <td>41</td>\n",
       "      <td>2</td>\n",
       "      <td>3884.34</td>\n",
       "      <td>Shipped</td>\n",
       "      <td>3</td>\n",
       "      <td>7</td>\n",
       "      <td>2003</td>\n",
       "      <td>Motorcycles</td>\n",
       "      <td>95</td>\n",
       "      <td>S10_1678</td>\n",
       "      <td>Lyon Souveniers</td>\n",
       "      <td>France</td>\n",
       "      <td>Medium</td>\n",
       "    </tr>\n",
       "    <tr>\n",
       "      <th>3</th>\n",
       "      <td>45</td>\n",
       "      <td>6</td>\n",
       "      <td>3746.70</td>\n",
       "      <td>Shipped</td>\n",
       "      <td>3</td>\n",
       "      <td>8</td>\n",
       "      <td>2003</td>\n",
       "      <td>Motorcycles</td>\n",
       "      <td>95</td>\n",
       "      <td>S10_1678</td>\n",
       "      <td>Toys4GrownUps.com</td>\n",
       "      <td>USA</td>\n",
       "      <td>Medium</td>\n",
       "    </tr>\n",
       "    <tr>\n",
       "      <th>4</th>\n",
       "      <td>49</td>\n",
       "      <td>14</td>\n",
       "      <td>5205.27</td>\n",
       "      <td>Shipped</td>\n",
       "      <td>4</td>\n",
       "      <td>10</td>\n",
       "      <td>2003</td>\n",
       "      <td>Motorcycles</td>\n",
       "      <td>95</td>\n",
       "      <td>S10_1678</td>\n",
       "      <td>Corporate Gift Ideas Co.</td>\n",
       "      <td>USA</td>\n",
       "      <td>Medium</td>\n",
       "    </tr>\n",
       "  </tbody>\n",
       "</table>\n",
       "</div>"
      ],
      "text/plain": [
       "   QUANTITYORDERED  ORDERLINENUMBER    SALES   STATUS  QTR_ID  MONTH_ID  \\\n",
       "0               30                2  2871.00  Shipped       1         2   \n",
       "1               34                5  2765.90  Shipped       2         5   \n",
       "2               41                2  3884.34  Shipped       3         7   \n",
       "3               45                6  3746.70  Shipped       3         8   \n",
       "4               49               14  5205.27  Shipped       4        10   \n",
       "\n",
       "   YEAR_ID  PRODUCTLINE  MSRP PRODUCTCODE              CUSTOMERNAME COUNTRY  \\\n",
       "0     2003  Motorcycles    95    S10_1678         Land of Toys Inc.     USA   \n",
       "1     2003  Motorcycles    95    S10_1678        Reims Collectables  France   \n",
       "2     2003  Motorcycles    95    S10_1678           Lyon Souveniers  France   \n",
       "3     2003  Motorcycles    95    S10_1678         Toys4GrownUps.com     USA   \n",
       "4     2003  Motorcycles    95    S10_1678  Corporate Gift Ideas Co.     USA   \n",
       "\n",
       "  DEALSIZE  \n",
       "0    Small  \n",
       "1    Small  \n",
       "2   Medium  \n",
       "3   Medium  \n",
       "4   Medium  "
      ]
     },
     "execution_count": 6,
     "metadata": {},
     "output_type": "execute_result"
    }
   ],
   "source": [
    "df.head()"
   ]
  },
  {
   "cell_type": "code",
   "execution_count": 7,
   "id": "5ef52c36",
   "metadata": {
    "colab": {
     "base_uri": "https://localhost:8080/",
     "height": 0
    },
    "executionInfo": {
     "elapsed": 5,
     "status": "ok",
     "timestamp": 1694922722368,
     "user": {
      "displayName": "SHREYANSHU KODILKAR",
      "userId": "15024622034264586638"
     },
     "user_tz": -330
    },
    "id": "5ef52c36",
    "outputId": "8822494f-485f-4e2d-98ea-fe952fde6494"
   },
   "outputs": [
    {
     "data": {
      "text/plain": [
       "QUANTITYORDERED    0\n",
       "ORDERLINENUMBER    0\n",
       "SALES              0\n",
       "STATUS             0\n",
       "QTR_ID             0\n",
       "MONTH_ID           0\n",
       "YEAR_ID            0\n",
       "PRODUCTLINE        0\n",
       "MSRP               0\n",
       "PRODUCTCODE        0\n",
       "CUSTOMERNAME       0\n",
       "COUNTRY            0\n",
       "DEALSIZE           0\n",
       "dtype: int64"
      ]
     },
     "execution_count": 7,
     "metadata": {},
     "output_type": "execute_result"
    }
   ],
   "source": [
    "df.isnull().sum()"
   ]
  },
  {
   "cell_type": "code",
   "execution_count": 8,
   "id": "i5eOqXJzIT0y",
   "metadata": {
    "colab": {
     "base_uri": "https://localhost:8080/",
     "height": 300
    },
    "executionInfo": {
     "elapsed": 7,
     "status": "ok",
     "timestamp": 1694922730142,
     "user": {
      "displayName": "SHREYANSHU KODILKAR",
      "userId": "15024622034264586638"
     },
     "user_tz": -330
    },
    "id": "i5eOqXJzIT0y",
    "outputId": "a4763118-4bc1-46aa-8260-54bcbe3e9518"
   },
   "outputs": [
    {
     "data": {
      "text/html": [
       "<div>\n",
       "<style scoped>\n",
       "    .dataframe tbody tr th:only-of-type {\n",
       "        vertical-align: middle;\n",
       "    }\n",
       "\n",
       "    .dataframe tbody tr th {\n",
       "        vertical-align: top;\n",
       "    }\n",
       "\n",
       "    .dataframe thead th {\n",
       "        text-align: right;\n",
       "    }\n",
       "</style>\n",
       "<table border=\"1\" class=\"dataframe\">\n",
       "  <thead>\n",
       "    <tr style=\"text-align: right;\">\n",
       "      <th></th>\n",
       "      <th>QUANTITYORDERED</th>\n",
       "      <th>ORDERLINENUMBER</th>\n",
       "      <th>SALES</th>\n",
       "      <th>QTR_ID</th>\n",
       "      <th>MONTH_ID</th>\n",
       "      <th>YEAR_ID</th>\n",
       "      <th>MSRP</th>\n",
       "    </tr>\n",
       "  </thead>\n",
       "  <tbody>\n",
       "    <tr>\n",
       "      <th>count</th>\n",
       "      <td>2823.000000</td>\n",
       "      <td>2823.000000</td>\n",
       "      <td>2823.000000</td>\n",
       "      <td>2823.000000</td>\n",
       "      <td>2823.000000</td>\n",
       "      <td>2823.00000</td>\n",
       "      <td>2823.000000</td>\n",
       "    </tr>\n",
       "    <tr>\n",
       "      <th>mean</th>\n",
       "      <td>35.092809</td>\n",
       "      <td>6.466171</td>\n",
       "      <td>3553.889072</td>\n",
       "      <td>2.717676</td>\n",
       "      <td>7.092455</td>\n",
       "      <td>2003.81509</td>\n",
       "      <td>100.715551</td>\n",
       "    </tr>\n",
       "    <tr>\n",
       "      <th>std</th>\n",
       "      <td>9.741443</td>\n",
       "      <td>4.225841</td>\n",
       "      <td>1841.865106</td>\n",
       "      <td>1.203878</td>\n",
       "      <td>3.656633</td>\n",
       "      <td>0.69967</td>\n",
       "      <td>40.187912</td>\n",
       "    </tr>\n",
       "    <tr>\n",
       "      <th>min</th>\n",
       "      <td>6.000000</td>\n",
       "      <td>1.000000</td>\n",
       "      <td>482.130000</td>\n",
       "      <td>1.000000</td>\n",
       "      <td>1.000000</td>\n",
       "      <td>2003.00000</td>\n",
       "      <td>33.000000</td>\n",
       "    </tr>\n",
       "    <tr>\n",
       "      <th>25%</th>\n",
       "      <td>27.000000</td>\n",
       "      <td>3.000000</td>\n",
       "      <td>2203.430000</td>\n",
       "      <td>2.000000</td>\n",
       "      <td>4.000000</td>\n",
       "      <td>2003.00000</td>\n",
       "      <td>68.000000</td>\n",
       "    </tr>\n",
       "    <tr>\n",
       "      <th>50%</th>\n",
       "      <td>35.000000</td>\n",
       "      <td>6.000000</td>\n",
       "      <td>3184.800000</td>\n",
       "      <td>3.000000</td>\n",
       "      <td>8.000000</td>\n",
       "      <td>2004.00000</td>\n",
       "      <td>99.000000</td>\n",
       "    </tr>\n",
       "    <tr>\n",
       "      <th>75%</th>\n",
       "      <td>43.000000</td>\n",
       "      <td>9.000000</td>\n",
       "      <td>4508.000000</td>\n",
       "      <td>4.000000</td>\n",
       "      <td>11.000000</td>\n",
       "      <td>2004.00000</td>\n",
       "      <td>124.000000</td>\n",
       "    </tr>\n",
       "    <tr>\n",
       "      <th>max</th>\n",
       "      <td>97.000000</td>\n",
       "      <td>18.000000</td>\n",
       "      <td>14082.800000</td>\n",
       "      <td>4.000000</td>\n",
       "      <td>12.000000</td>\n",
       "      <td>2005.00000</td>\n",
       "      <td>214.000000</td>\n",
       "    </tr>\n",
       "  </tbody>\n",
       "</table>\n",
       "</div>"
      ],
      "text/plain": [
       "       QUANTITYORDERED  ORDERLINENUMBER         SALES       QTR_ID  \\\n",
       "count      2823.000000      2823.000000   2823.000000  2823.000000   \n",
       "mean         35.092809         6.466171   3553.889072     2.717676   \n",
       "std           9.741443         4.225841   1841.865106     1.203878   \n",
       "min           6.000000         1.000000    482.130000     1.000000   \n",
       "25%          27.000000         3.000000   2203.430000     2.000000   \n",
       "50%          35.000000         6.000000   3184.800000     3.000000   \n",
       "75%          43.000000         9.000000   4508.000000     4.000000   \n",
       "max          97.000000        18.000000  14082.800000     4.000000   \n",
       "\n",
       "          MONTH_ID     YEAR_ID         MSRP  \n",
       "count  2823.000000  2823.00000  2823.000000  \n",
       "mean      7.092455  2003.81509   100.715551  \n",
       "std       3.656633     0.69967    40.187912  \n",
       "min       1.000000  2003.00000    33.000000  \n",
       "25%       4.000000  2003.00000    68.000000  \n",
       "50%       8.000000  2004.00000    99.000000  \n",
       "75%      11.000000  2004.00000   124.000000  \n",
       "max      12.000000  2005.00000   214.000000  "
      ]
     },
     "execution_count": 8,
     "metadata": {},
     "output_type": "execute_result"
    }
   ],
   "source": [
    "df.describe()"
   ]
  },
  {
   "cell_type": "code",
   "execution_count": 9,
   "id": "P9-lh-ZBTuMX",
   "metadata": {
    "colab": {
     "base_uri": "https://localhost:8080/",
     "height": 466
    },
    "executionInfo": {
     "elapsed": 444,
     "status": "ok",
     "timestamp": 1694922769140,
     "user": {
      "displayName": "SHREYANSHU KODILKAR",
      "userId": "15024622034264586638"
     },
     "user_tz": -330
    },
    "id": "P9-lh-ZBTuMX",
    "outputId": "59d23374-5857-4f09-97a4-21e629dde710"
   },
   "outputs": [
    {
     "data": {
      "text/plain": [
       "<AxesSubplot:xlabel='STATUS', ylabel='count'>"
      ]
     },
     "execution_count": 9,
     "metadata": {},
     "output_type": "execute_result"
    },
    {
     "data": {
      "image/png": "[encoded data removed]",
      "text/plain": [
       "<Figure size 432x288 with 1 Axes>"
      ]
     },
     "metadata": {
      "needs_background": "light"
     },
     "output_type": "display_data"
    }
   ],
   "source": [
    "sns.countplot(data = df , x = 'STATUS')"
   ]
  },
  {
   "cell_type": "code",
   "execution_count": 10,
   "id": "12427436",
   "metadata": {
    "colab": {
     "base_uri": "https://localhost:8080/",
     "height": 0
    },
    "executionInfo": {
     "elapsed": 4,
     "status": "ok",
     "timestamp": 1694922804590,
     "user": {
      "displayName": "SHREYANSHU KODILKAR",
      "userId": "15024622034264586638"
     },
     "user_tz": -330
    },
    "id": "12427436",
    "outputId": "69a11a89-0e06-4faa-ce4b-56c5d1b7f1c2"
   },
   "outputs": [
    {
     "data": {
      "text/plain": [
       "array(['Motorcycles', 'Classic Cars', 'Trucks and Buses', 'Vintage Cars',\n",
       "       'Planes', 'Ships', 'Trains'], dtype=object)"
      ]
     },
     "execution_count": 10,
     "metadata": {},
     "output_type": "execute_result"
    }
   ],
   "source": [
    "df['PRODUCTLINE'].unique()"
   ]
  },
  {
   "cell_type": "code",
   "execution_count": 11,
   "id": "2de7d697",
   "metadata": {
    "executionInfo": {
     "elapsed": 4,
     "status": "ok",
     "timestamp": 1694922814584,
     "user": {
      "displayName": "SHREYANSHU KODILKAR",
      "userId": "15024622034264586638"
     },
     "user_tz": -330
    },
    "id": "2de7d697"
   },
   "outputs": [],
   "source": [
    "#checking the duplicated values\n",
    "df.drop_duplicates(inplace=True)"
   ]
  },
  {
   "cell_type": "code",
   "execution_count": 12,
   "id": "31161c30",
   "metadata": {
    "colab": {
     "base_uri": "https://localhost:8080/",
     "height": 0
    },
    "executionInfo": {
     "elapsed": 8,
     "status": "ok",
     "timestamp": 1694922823270,
     "user": {
      "displayName": "SHREYANSHU KODILKAR",
      "userId": "15024622034264586638"
     },
     "user_tz": -330
    },
    "id": "31161c30",
    "outputId": "9755db2d-cc90-4dc8-e3de-b4d5e48c7d34"
   },
   "outputs": [
    {
     "name": "stdout",
     "output_type": "stream",
     "text": [
      "<class 'pandas.core.frame.DataFrame'>\n",
      "Int64Index: 2823 entries, 0 to 2822\n",
      "Data columns (total 13 columns):\n",
      " #   Column           Non-Null Count  Dtype  \n",
      "---  ------           --------------  -----  \n",
      " 0   QUANTITYORDERED  2823 non-null   int64  \n",
      " 1   ORDERLINENUMBER  2823 non-null   int64  \n",
      " 2   SALES            2823 non-null   float64\n",
      " 3   STATUS           2823 non-null   object \n",
      " 4   QTR_ID           2823 non-null   int64  \n",
      " 5   MONTH_ID         2823 non-null   int64  \n",
      " 6   YEAR_ID          2823 non-null   int64  \n",
      " 7   PRODUCTLINE      2823 non-null   object \n",
      " 8   MSRP             2823 non-null   int64  \n",
      " 9   PRODUCTCODE      2823 non-null   object \n",
      " 10  CUSTOMERNAME     2823 non-null   object \n",
      " 11  COUNTRY          2823 non-null   object \n",
      " 12  DEALSIZE         2823 non-null   object \n",
      "dtypes: float64(1), int64(6), object(6)\n",
      "memory usage: 308.8+ KB\n"
     ]
    }
   ],
   "source": [
    "df.info()"
   ]
  },
  {
   "cell_type": "code",
   "execution_count": 13,
   "id": "ow5u1VDXKXsq",
   "metadata": {
    "executionInfo": {
     "elapsed": 3,
     "status": "ok",
     "timestamp": 1694922837054,
     "user": {
      "displayName": "SHREYANSHU KODILKAR",
      "userId": "15024622034264586638"
     },
     "user_tz": -330
    },
    "id": "ow5u1VDXKXsq"
   },
   "outputs": [],
   "source": [
    "list_cat = df.select_dtypes(include=['object']).columns.tolist()"
   ]
  },
  {
   "cell_type": "code",
   "execution_count": 14,
   "id": "5DRpx5VpKtVY",
   "metadata": {
    "colab": {
     "base_uri": "https://localhost:8080/",
     "height": 0
    },
    "executionInfo": {
     "elapsed": 430,
     "status": "ok",
     "timestamp": 1694922869962,
     "user": {
      "displayName": "SHREYANSHU KODILKAR",
      "userId": "15024622034264586638"
     },
     "user_tz": -330
    },
    "id": "5DRpx5VpKtVY",
    "outputId": "50d6868c-2150-4b90-c242-2f7eec0e5219"
   },
   "outputs": [
    {
     "data": {
      "text/plain": [
       "['STATUS', 'PRODUCTLINE', 'PRODUCTCODE', 'CUSTOMERNAME', 'COUNTRY', 'DEALSIZE']"
      ]
     },
     "execution_count": 14,
     "metadata": {},
     "output_type": "execute_result"
    }
   ],
   "source": [
    "list_cat"
   ]
  },
  {
   "cell_type": "code",
   "execution_count": 15,
   "id": "KaLH4uyGG49R",
   "metadata": {
    "executionInfo": {
     "elapsed": 4,
     "status": "ok",
     "timestamp": 1694922904177,
     "user": {
      "displayName": "SHREYANSHU KODILKAR",
      "userId": "15024622034264586638"
     },
     "user_tz": -330
    },
    "id": "KaLH4uyGG49R"
   },
   "outputs": [],
   "source": [
    "#dealing with the catagorical features\n",
    "from sklearn import preprocessing\n",
    "le = preprocessing.LabelEncoder()\n",
    "\n",
    "# Encode labels in column 'species'.\n",
    "for i in list_cat:\n",
    "  df[i]= le.fit_transform(df[i])"
   ]
  },
  {
   "cell_type": "code",
   "execution_count": 16,
   "id": "2fwfKdeQKJQ1",
   "metadata": {
    "colab": {
     "base_uri": "https://localhost:8080/",
     "height": 0
    },
    "executionInfo": {
     "elapsed": 4,
     "status": "ok",
     "timestamp": 1694922911083,
     "user": {
      "displayName": "SHREYANSHU KODILKAR",
      "userId": "15024622034264586638"
     },
     "user_tz": -330
    },
    "id": "2fwfKdeQKJQ1",
    "outputId": "740279be-bc0e-4fba-d757-fc323377ec9f"
   },
   "outputs": [
    {
     "name": "stdout",
     "output_type": "stream",
     "text": [
      "<class 'pandas.core.frame.DataFrame'>\n",
      "Int64Index: 2823 entries, 0 to 2822\n",
      "Data columns (total 13 columns):\n",
      " #   Column           Non-Null Count  Dtype  \n",
      "---  ------           --------------  -----  \n",
      " 0   QUANTITYORDERED  2823 non-null   int64  \n",
      " 1   ORDERLINENUMBER  2823 non-null   int64  \n",
      " 2   SALES            2823 non-null   float64\n",
      " 3   STATUS           2823 non-null   int64  \n",
      " 4   QTR_ID           2823 non-null   int64  \n",
      " 5   MONTH_ID         2823 non-null   int64  \n",
      " 6   YEAR_ID          2823 non-null   int64  \n",
      " 7   PRODUCTLINE      2823 non-null   int64  \n",
      " 8   MSRP             2823 non-null   int64  \n",
      " 9   PRODUCTCODE      2823 non-null   int64  \n",
      " 10  CUSTOMERNAME     2823 non-null   int64  \n",
      " 11  COUNTRY          2823 non-null   int64  \n",
      " 12  DEALSIZE         2823 non-null   int64  \n",
      "dtypes: float64(1), int64(12)\n",
      "memory usage: 308.8 KB\n"
     ]
    }
   ],
   "source": [
    "df.info()"
   ]
  },
  {
   "cell_type": "code",
   "execution_count": 17,
   "id": "ZK3Ze6rkLGab",
   "metadata": {
    "executionInfo": {
     "elapsed": 5,
     "status": "ok",
     "timestamp": 1694922929576,
     "user": {
      "displayName": "SHREYANSHU KODILKAR",
      "userId": "15024622034264586638"
     },
     "user_tz": -330
    },
    "id": "ZK3Ze6rkLGab"
   },
   "outputs": [],
   "source": [
    "df['SALES'] = df['SALES'].astype(int)"
   ]
  },
  {
   "cell_type": "code",
   "execution_count": 18,
   "id": "7Gr5BV87LXl8",
   "metadata": {
    "colab": {
     "base_uri": "https://localhost:8080/",
     "height": 0
    },
    "executionInfo": {
     "elapsed": 5,
     "status": "ok",
     "timestamp": 1694922937351,
     "user": {
      "displayName": "SHREYANSHU KODILKAR",
      "userId": "15024622034264586638"
     },
     "user_tz": -330
    },
    "id": "7Gr5BV87LXl8",
    "outputId": "54727b3c-fbe4-4601-b701-6d2670b3b87e"
   },
   "outputs": [
    {
     "name": "stdout",
     "output_type": "stream",
     "text": [
      "<class 'pandas.core.frame.DataFrame'>\n",
      "Int64Index: 2823 entries, 0 to 2822\n",
      "Data columns (total 13 columns):\n",
      " #   Column           Non-Null Count  Dtype\n",
      "---  ------           --------------  -----\n",
      " 0   QUANTITYORDERED  2823 non-null   int64\n",
      " 1   ORDERLINENUMBER  2823 non-null   int64\n",
      " 2   SALES            2823 non-null   int64\n",
      " 3   STATUS           2823 non-null   int64\n",
      " 4   QTR_ID           2823 non-null   int64\n",
      " 5   MONTH_ID         2823 non-null   int64\n",
      " 6   YEAR_ID          2823 non-null   int64\n",
      " 7   PRODUCTLINE      2823 non-null   int64\n",
      " 8   MSRP             2823 non-null   int64\n",
      " 9   PRODUCTCODE      2823 non-null   int64\n",
      " 10  CUSTOMERNAME     2823 non-null   int64\n",
      " 11  COUNTRY          2823 non-null   int64\n",
      " 12  DEALSIZE         2823 non-null   int64\n",
      "dtypes: int64(13)\n",
      "memory usage: 308.8 KB\n"
     ]
    }
   ],
   "source": [
    "df.info()"
   ]
  },
  {
   "cell_type": "code",
   "execution_count": 19,
   "id": "ROo-tRmJPxFl",
   "metadata": {
    "executionInfo": {
     "elapsed": 4,
     "status": "ok",
     "timestamp": 1694922959822,
     "user": {
      "displayName": "SHREYANSHU KODILKAR",
      "userId": "15024622034264586638"
     },
     "user_tz": -330
    },
    "id": "ROo-tRmJPxFl"
   },
   "outputs": [],
   "source": [
    "## taget feature are Sales and productline\n",
    "X = df[['SALES','PRODUCTCODE']]"
   ]
  },
  {
   "cell_type": "markdown",
   "id": "KmpuSPVuB5sf",
   "metadata": {
    "id": "KmpuSPVuB5sf"
   },
   "source": [
    "## K Means implementation"
   ]
  },
  {
   "cell_type": "code",
   "execution_count": 20,
   "id": "nEhKEjeNSy_Q",
   "metadata": {
    "colab": {
     "base_uri": "https://localhost:8080/",
     "height": 0
    },
    "executionInfo": {
     "elapsed": 3188,
     "status": "ok",
     "timestamp": 1694923287363,
     "user": {
      "displayName": "SHREYANSHU KODILKAR",
      "userId": "15024622034264586638"
     },
     "user_tz": -330
    },
    "id": "nEhKEjeNSy_Q",
    "outputId": "5bf18bc7-8001-407a-a501-8fcb493048aa"
   },
   "outputs": [
    {
     "name": "stdout",
     "output_type": "stream",
     "text": [
      "Collecting kMeans\n",
      "  Downloading kmeans-1.0.2.tar.gz (5.9 kB)\n",
      "  Preparing metadata (setup.py) ... \u001b[?25ldone\n",
      "\u001b[?25hBuilding wheels for collected packages: kMeans\n",
      "  Building wheel for kMeans (setup.py) ... \u001b[?25ldone\n",
      "\u001b[?25h  Created wheel for kMeans: filename=kmeans-1.0.2-cp38-cp38-macosx_10_9_x86_64.whl size=8836 sha256=24997bf9a310d77583eb813dd7b729f63d25d5629da03a5c47e8d7cc781febff\n",
      "  Stored in directory: /Users/yashdusane/Library/Caches/pip/wheels/f7/e8/10/43428d0e74682ef832025ebc394d327476d905098d5f2984d4\n",
      "Successfully built kMeans\n",
      "Installing collected packages: kMeans\n",
      "Successfully installed kMeans-1.0.2\n",
      "\n",
      "\u001b[1m[\u001b[0m\u001b[34;49mnotice\u001b[0m\u001b[1;39;49m]\u001b[0m\u001b[39;49m A new release of pip is available: \u001b[0m\u001b[31;49m23.1.2\u001b[0m\u001b[39;49m -> \u001b[0m\u001b[32;49m23.2.1\u001b[0m\n",
      "\u001b[1m[\u001b[0m\u001b[34;49mnotice\u001b[0m\u001b[1;39;49m]\u001b[0m\u001b[39;49m To update, run: \u001b[0m\u001b[32;49mpip install --upgrade pip\u001b[0m\n",
      "Note: you may need to restart the kernel to use updated packages.\n"
     ]
    }
   ],
   "source": [
    "pip install kMeans"
   ]
  },
  {
   "cell_type": "code",
   "execution_count": 21,
   "id": "Soka3u2DLp7f",
   "metadata": {
    "colab": {
     "base_uri": "https://localhost:8080/",
     "height": 0
    },
    "executionInfo": {
     "elapsed": 612,
     "status": "ok",
     "timestamp": 1694923332018,
     "user": {
      "displayName": "SHREYANSHU KODILKAR",
      "userId": "15024622034264586638"
     },
     "user_tz": -330
    },
    "id": "Soka3u2DLp7f",
    "outputId": "0f02cf1e-99aa-422e-bd51-886308e7b884"
   },
   "outputs": [],
   "source": [
    "from sklearn.cluster import KMeans\n",
    "kmeans = KMeans(n_clusters=4, init='k-means++', random_state=0).fit(X)"
   ]
  },
  {
   "cell_type": "code",
   "execution_count": 22,
   "id": "W6nv6cwJRORM",
   "metadata": {
    "colab": {
     "base_uri": "https://localhost:8080/",
     "height": 0
    },
    "executionInfo": {
     "elapsed": 414,
     "status": "ok",
     "timestamp": 1694923341340,
     "user": {
      "displayName": "SHREYANSHU KODILKAR",
      "userId": "15024622034264586638"
     },
     "user_tz": -330
    },
    "id": "W6nv6cwJRORM",
    "outputId": "25480bc7-588e-4284-87a5-33a2b09c539f"
   },
   "outputs": [
    {
     "data": {
      "text/plain": [
       "array([0, 0, 0, ..., 3, 2, 0], dtype=int32)"
      ]
     },
     "execution_count": 22,
     "metadata": {},
     "output_type": "execute_result"
    }
   ],
   "source": [
    "kmeans.labels_"
   ]
  },
  {
   "cell_type": "code",
   "execution_count": 23,
   "id": "gcQEHkG5ROXI",
   "metadata": {
    "colab": {
     "base_uri": "https://localhost:8080/",
     "height": 0
    },
    "executionInfo": {
     "elapsed": 4,
     "status": "ok",
     "timestamp": 1694923345528,
     "user": {
      "displayName": "SHREYANSHU KODILKAR",
      "userId": "15024622034264586638"
     },
     "user_tz": -330
    },
    "id": "gcQEHkG5ROXI",
    "outputId": "4898ad56-95c3-4798-c381-ac7c5f24f2c8"
   },
   "outputs": [
    {
     "data": {
      "text/plain": [
       "1042223216.6249822"
      ]
     },
     "execution_count": 23,
     "metadata": {},
     "output_type": "execute_result"
    }
   ],
   "source": [
    "kmeans.inertia_"
   ]
  },
  {
   "cell_type": "code",
   "execution_count": 24,
   "id": "Wq2xA7dIROai",
   "metadata": {
    "colab": {
     "base_uri": "https://localhost:8080/",
     "height": 0
    },
    "executionInfo": {
     "elapsed": 382,
     "status": "ok",
     "timestamp": 1694923348363,
     "user": {
      "displayName": "SHREYANSHU KODILKAR",
      "userId": "15024622034264586638"
     },
     "user_tz": -330
    },
    "id": "Wq2xA7dIROai",
    "outputId": "330a38b6-3fba-4ffd-b749-9a10c4435bed"
   },
   "outputs": [
    {
     "data": {
      "text/plain": [
       "24"
      ]
     },
     "execution_count": 24,
     "metadata": {},
     "output_type": "execute_result"
    }
   ],
   "source": [
    "kmeans.n_iter_"
   ]
  },
  {
   "cell_type": "code",
   "execution_count": 25,
   "id": "jTl7zBONRYY2",
   "metadata": {
    "colab": {
     "base_uri": "https://localhost:8080/",
     "height": 0
    },
    "executionInfo": {
     "elapsed": 3,
     "status": "ok",
     "timestamp": 1694923350241,
     "user": {
      "displayName": "SHREYANSHU KODILKAR",
      "userId": "15024622034264586638"
     },
     "user_tz": -330
    },
    "id": "jTl7zBONRYY2",
    "outputId": "27720ed5-78a7-403e-cf33-a9936ab10e1b"
   },
   "outputs": [
    {
     "data": {
      "text/plain": [
       "array([[3416.59686888,   56.3072407 ],\n",
       "       [7983.1758794 ,   28.05025126],\n",
       "       [1879.28363988,   63.25072604],\n",
       "       [5289.27065026,   41.01230228]])"
      ]
     },
     "execution_count": 25,
     "metadata": {},
     "output_type": "execute_result"
    }
   ],
   "source": [
    "kmeans.cluster_centers_"
   ]
  },
  {
   "cell_type": "code",
   "execution_count": 26,
   "id": "3VwM59zxMIoy",
   "metadata": {
    "colab": {
     "base_uri": "https://localhost:8080/",
     "height": 0
    },
    "executionInfo": {
     "elapsed": 354,
     "status": "ok",
     "timestamp": 1694923357038,
     "user": {
      "displayName": "SHREYANSHU KODILKAR",
      "userId": "15024622034264586638"
     },
     "user_tz": -330
    },
    "id": "3VwM59zxMIoy",
    "outputId": "f696b7f4-12ef-43a7-9e2f-d81a2ff26cd4"
   },
   "outputs": [
    {
     "data": {
      "text/plain": [
       "Counter({0: 1024, 3: 565, 2: 1035, 1: 199})"
      ]
     },
     "execution_count": 26,
     "metadata": {},
     "output_type": "execute_result"
    }
   ],
   "source": [
    "#getting the size of the clusters\n",
    "from collections import Counter\n",
    "Counter(kmeans.labels_)"
   ]
  },
  {
   "cell_type": "markdown",
   "id": "MLNRSVbFMRbz",
   "metadata": {
    "id": "MLNRSVbFMRbz"
   },
   "source": [
    "Hence the NUmber of Clusters to be choosen Will be 4 according to the elbow method"
   ]
  }
 ],
 "metadata": {
  "colab": {
   "provenance": []
  },
  "kernelspec": {
   "display_name": "Python 3",
   "language": "python",
   "name": "python3"
  },
  "language_info": {
   "codemirror_mode": {
    "name": "ipython",
    "version": 3
   },
   "file_extension": ".py",
   "mimetype": "text/x-python",
   "name": "python",
   "nbconvert_exporter": "python",
   "pygments_lexer": "ipython3",
   "version": "3.8.8"
  }
 },
 "nbformat": 4,
 "nbformat_minor": 5
}
